{
  "cells": [
    {
      "cell_type": "code",
      "source": [
        "!pip install -U langchain langchain-community chromadb sentence-transformers transformers\n"
      ],
      "metadata": {
        "colab": {
          "base_uri": "https://localhost:8080/"
        },
        "id": "yqHVsh2qtfbv",
        "outputId": "00461298-dc7f-4c54-ba1d-243cbd68a6c0"
      },
      "execution_count": 1,
      "outputs": [
        {
          "output_type": "stream",
          "name": "stdout",
          "text": [
            "Requirement already satisfied: langchain in /usr/local/lib/python3.11/dist-packages (0.3.25)\n",
            "Requirement already satisfied: langchain-community in /usr/local/lib/python3.11/dist-packages (0.3.23)\n",
            "Requirement already satisfied: chromadb in /usr/local/lib/python3.11/dist-packages (1.0.7)\n",
            "Requirement already satisfied: sentence-transformers in /usr/local/lib/python3.11/dist-packages (4.1.0)\n",
            "Requirement already satisfied: transformers in /usr/local/lib/python3.11/dist-packages (4.51.3)\n",
            "Requirement already satisfied: langchain-core<1.0.0,>=0.3.58 in /usr/local/lib/python3.11/dist-packages (from langchain) (0.3.58)\n",
            "Requirement already satisfied: langchain-text-splitters<1.0.0,>=0.3.8 in /usr/local/lib/python3.11/dist-packages (from langchain) (0.3.8)\n",
            "Requirement already satisfied: langsmith<0.4,>=0.1.17 in /usr/local/lib/python3.11/dist-packages (from langchain) (0.3.38)\n",
            "Requirement already satisfied: pydantic<3.0.0,>=2.7.4 in /usr/local/lib/python3.11/dist-packages (from langchain) (2.11.3)\n",
            "Requirement already satisfied: SQLAlchemy<3,>=1.4 in /usr/local/lib/python3.11/dist-packages (from langchain) (2.0.40)\n",
            "Requirement already satisfied: requests<3,>=2 in /usr/local/lib/python3.11/dist-packages (from langchain) (2.32.3)\n",
            "Requirement already satisfied: PyYAML>=5.3 in /usr/local/lib/python3.11/dist-packages (from langchain) (6.0.2)\n",
            "Requirement already satisfied: aiohttp<4.0.0,>=3.8.3 in /usr/local/lib/python3.11/dist-packages (from langchain-community) (3.11.15)\n",
            "Requirement already satisfied: tenacity!=8.4.0,<10,>=8.1.0 in /usr/local/lib/python3.11/dist-packages (from langchain-community) (9.1.2)\n",
            "Requirement already satisfied: dataclasses-json<0.7,>=0.5.7 in /usr/local/lib/python3.11/dist-packages (from langchain-community) (0.6.7)\n",
            "Requirement already satisfied: pydantic-settings<3.0.0,>=2.4.0 in /usr/local/lib/python3.11/dist-packages (from langchain-community) (2.9.1)\n",
            "Requirement already satisfied: httpx-sse<1.0.0,>=0.4.0 in /usr/local/lib/python3.11/dist-packages (from langchain-community) (0.4.0)\n",
            "Requirement already satisfied: numpy>=1.26.2 in /usr/local/lib/python3.11/dist-packages (from langchain-community) (2.0.2)\n",
            "Requirement already satisfied: build>=1.0.3 in /usr/local/lib/python3.11/dist-packages (from chromadb) (1.2.2.post1)\n",
            "Requirement already satisfied: chroma-hnswlib==0.7.6 in /usr/local/lib/python3.11/dist-packages (from chromadb) (0.7.6)\n",
            "Requirement already satisfied: fastapi==0.115.9 in /usr/local/lib/python3.11/dist-packages (from chromadb) (0.115.9)\n",
            "Requirement already satisfied: uvicorn>=0.18.3 in /usr/local/lib/python3.11/dist-packages (from uvicorn[standard]>=0.18.3->chromadb) (0.34.2)\n",
            "Requirement already satisfied: posthog>=2.4.0 in /usr/local/lib/python3.11/dist-packages (from chromadb) (4.0.1)\n",
            "Requirement already satisfied: typing-extensions>=4.5.0 in /usr/local/lib/python3.11/dist-packages (from chromadb) (4.13.2)\n",
            "Requirement already satisfied: onnxruntime>=1.14.1 in /usr/local/lib/python3.11/dist-packages (from chromadb) (1.21.1)\n",
            "Requirement already satisfied: opentelemetry-api>=1.2.0 in /usr/local/lib/python3.11/dist-packages (from chromadb) (1.32.1)\n",
            "Requirement already satisfied: opentelemetry-exporter-otlp-proto-grpc>=1.2.0 in /usr/local/lib/python3.11/dist-packages (from chromadb) (1.32.1)\n",
            "Requirement already satisfied: opentelemetry-instrumentation-fastapi>=0.41b0 in /usr/local/lib/python3.11/dist-packages (from chromadb) (0.53b1)\n",
            "Requirement already satisfied: opentelemetry-sdk>=1.2.0 in /usr/local/lib/python3.11/dist-packages (from chromadb) (1.32.1)\n",
            "Requirement already satisfied: tokenizers>=0.13.2 in /usr/local/lib/python3.11/dist-packages (from chromadb) (0.21.1)\n",
            "Requirement already satisfied: pypika>=0.48.9 in /usr/local/lib/python3.11/dist-packages (from chromadb) (0.48.9)\n",
            "Requirement already satisfied: tqdm>=4.65.0 in /usr/local/lib/python3.11/dist-packages (from chromadb) (4.67.1)\n",
            "Requirement already satisfied: overrides>=7.3.1 in /usr/local/lib/python3.11/dist-packages (from chromadb) (7.7.0)\n",
            "Requirement already satisfied: importlib-resources in /usr/local/lib/python3.11/dist-packages (from chromadb) (6.5.2)\n",
            "Requirement already satisfied: grpcio>=1.58.0 in /usr/local/lib/python3.11/dist-packages (from chromadb) (1.71.0)\n",
            "Requirement already satisfied: bcrypt>=4.0.1 in /usr/local/lib/python3.11/dist-packages (from chromadb) (4.3.0)\n",
            "Requirement already satisfied: typer>=0.9.0 in /usr/local/lib/python3.11/dist-packages (from chromadb) (0.15.3)\n",
            "Requirement already satisfied: kubernetes>=28.1.0 in /usr/local/lib/python3.11/dist-packages (from chromadb) (32.0.1)\n",
            "Requirement already satisfied: mmh3>=4.0.1 in /usr/local/lib/python3.11/dist-packages (from chromadb) (5.1.0)\n",
            "Requirement already satisfied: orjson>=3.9.12 in /usr/local/lib/python3.11/dist-packages (from chromadb) (3.10.17)\n",
            "Requirement already satisfied: httpx>=0.27.0 in /usr/local/lib/python3.11/dist-packages (from chromadb) (0.28.1)\n",
            "Requirement already satisfied: rich>=10.11.0 in /usr/local/lib/python3.11/dist-packages (from chromadb) (13.9.4)\n",
            "Requirement already satisfied: jsonschema>=4.19.0 in /usr/local/lib/python3.11/dist-packages (from chromadb) (4.23.0)\n",
            "Requirement already satisfied: starlette<0.46.0,>=0.40.0 in /usr/local/lib/python3.11/dist-packages (from fastapi==0.115.9->chromadb) (0.45.3)\n",
            "Requirement already satisfied: torch>=1.11.0 in /usr/local/lib/python3.11/dist-packages (from sentence-transformers) (2.6.0+cu124)\n",
            "Requirement already satisfied: scikit-learn in /usr/local/lib/python3.11/dist-packages (from sentence-transformers) (1.6.1)\n",
            "Requirement already satisfied: scipy in /usr/local/lib/python3.11/dist-packages (from sentence-transformers) (1.15.2)\n",
            "Requirement already satisfied: huggingface-hub>=0.20.0 in /usr/local/lib/python3.11/dist-packages (from sentence-transformers) (0.30.2)\n",
            "Requirement already satisfied: Pillow in /usr/local/lib/python3.11/dist-packages (from sentence-transformers) (11.2.1)\n",
            "Requirement already satisfied: filelock in /usr/local/lib/python3.11/dist-packages (from transformers) (3.18.0)\n",
            "Requirement already satisfied: packaging>=20.0 in /usr/local/lib/python3.11/dist-packages (from transformers) (24.2)\n",
            "Requirement already satisfied: regex!=2019.12.17 in /usr/local/lib/python3.11/dist-packages (from transformers) (2024.11.6)\n",
            "Requirement already satisfied: safetensors>=0.4.3 in /usr/local/lib/python3.11/dist-packages (from transformers) (0.5.3)\n",
            "Requirement already satisfied: aiohappyeyeballs>=2.3.0 in /usr/local/lib/python3.11/dist-packages (from aiohttp<4.0.0,>=3.8.3->langchain-community) (2.6.1)\n",
            "Requirement already satisfied: aiosignal>=1.1.2 in /usr/local/lib/python3.11/dist-packages (from aiohttp<4.0.0,>=3.8.3->langchain-community) (1.3.2)\n",
            "Requirement already satisfied: attrs>=17.3.0 in /usr/local/lib/python3.11/dist-packages (from aiohttp<4.0.0,>=3.8.3->langchain-community) (25.3.0)\n",
            "Requirement already satisfied: frozenlist>=1.1.1 in /usr/local/lib/python3.11/dist-packages (from aiohttp<4.0.0,>=3.8.3->langchain-community) (1.6.0)\n",
            "Requirement already satisfied: multidict<7.0,>=4.5 in /usr/local/lib/python3.11/dist-packages (from aiohttp<4.0.0,>=3.8.3->langchain-community) (6.4.3)\n",
            "Requirement already satisfied: propcache>=0.2.0 in /usr/local/lib/python3.11/dist-packages (from aiohttp<4.0.0,>=3.8.3->langchain-community) (0.3.1)\n",
            "Requirement already satisfied: yarl<2.0,>=1.17.0 in /usr/local/lib/python3.11/dist-packages (from aiohttp<4.0.0,>=3.8.3->langchain-community) (1.20.0)\n",
            "Requirement already satisfied: pyproject_hooks in /usr/local/lib/python3.11/dist-packages (from build>=1.0.3->chromadb) (1.2.0)\n",
            "Requirement already satisfied: marshmallow<4.0.0,>=3.18.0 in /usr/local/lib/python3.11/dist-packages (from dataclasses-json<0.7,>=0.5.7->langchain-community) (3.26.1)\n",
            "Requirement already satisfied: typing-inspect<1,>=0.4.0 in /usr/local/lib/python3.11/dist-packages (from dataclasses-json<0.7,>=0.5.7->langchain-community) (0.9.0)\n",
            "Requirement already satisfied: anyio in /usr/local/lib/python3.11/dist-packages (from httpx>=0.27.0->chromadb) (4.9.0)\n",
            "Requirement already satisfied: certifi in /usr/local/lib/python3.11/dist-packages (from httpx>=0.27.0->chromadb) (2025.4.26)\n",
            "Requirement already satisfied: httpcore==1.* in /usr/local/lib/python3.11/dist-packages (from httpx>=0.27.0->chromadb) (1.0.9)\n",
            "Requirement already satisfied: idna in /usr/local/lib/python3.11/dist-packages (from httpx>=0.27.0->chromadb) (3.10)\n",
            "Requirement already satisfied: h11>=0.16 in /usr/local/lib/python3.11/dist-packages (from httpcore==1.*->httpx>=0.27.0->chromadb) (0.16.0)\n",
            "Requirement already satisfied: fsspec>=2023.5.0 in /usr/local/lib/python3.11/dist-packages (from huggingface-hub>=0.20.0->sentence-transformers) (2025.3.2)\n",
            "Requirement already satisfied: jsonschema-specifications>=2023.03.6 in /usr/local/lib/python3.11/dist-packages (from jsonschema>=4.19.0->chromadb) (2025.4.1)\n",
            "Requirement already satisfied: referencing>=0.28.4 in /usr/local/lib/python3.11/dist-packages (from jsonschema>=4.19.0->chromadb) (0.36.2)\n",
            "Requirement already satisfied: rpds-py>=0.7.1 in /usr/local/lib/python3.11/dist-packages (from jsonschema>=4.19.0->chromadb) (0.24.0)\n",
            "Requirement already satisfied: six>=1.9.0 in /usr/local/lib/python3.11/dist-packages (from kubernetes>=28.1.0->chromadb) (1.17.0)\n",
            "Requirement already satisfied: python-dateutil>=2.5.3 in /usr/local/lib/python3.11/dist-packages (from kubernetes>=28.1.0->chromadb) (2.9.0.post0)\n",
            "Requirement already satisfied: google-auth>=1.0.1 in /usr/local/lib/python3.11/dist-packages (from kubernetes>=28.1.0->chromadb) (2.38.0)\n",
            "Requirement already satisfied: websocket-client!=0.40.0,!=0.41.*,!=0.42.*,>=0.32.0 in /usr/local/lib/python3.11/dist-packages (from kubernetes>=28.1.0->chromadb) (1.8.0)\n",
            "Requirement already satisfied: requests-oauthlib in /usr/local/lib/python3.11/dist-packages (from kubernetes>=28.1.0->chromadb) (2.0.0)\n",
            "Requirement already satisfied: oauthlib>=3.2.2 in /usr/local/lib/python3.11/dist-packages (from kubernetes>=28.1.0->chromadb) (3.2.2)\n",
            "Requirement already satisfied: urllib3>=1.24.2 in /usr/local/lib/python3.11/dist-packages (from kubernetes>=28.1.0->chromadb) (2.4.0)\n",
            "Requirement already satisfied: durationpy>=0.7 in /usr/local/lib/python3.11/dist-packages (from kubernetes>=28.1.0->chromadb) (0.9)\n",
            "Requirement already satisfied: jsonpatch<2.0,>=1.33 in /usr/local/lib/python3.11/dist-packages (from langchain-core<1.0.0,>=0.3.58->langchain) (1.33)\n",
            "Requirement already satisfied: requests-toolbelt<2.0.0,>=1.0.0 in /usr/local/lib/python3.11/dist-packages (from langsmith<0.4,>=0.1.17->langchain) (1.0.0)\n",
            "Requirement already satisfied: zstandard<0.24.0,>=0.23.0 in /usr/local/lib/python3.11/dist-packages (from langsmith<0.4,>=0.1.17->langchain) (0.23.0)\n",
            "Requirement already satisfied: coloredlogs in /usr/local/lib/python3.11/dist-packages (from onnxruntime>=1.14.1->chromadb) (15.0.1)\n",
            "Requirement already satisfied: flatbuffers in /usr/local/lib/python3.11/dist-packages (from onnxruntime>=1.14.1->chromadb) (25.2.10)\n",
            "Requirement already satisfied: protobuf in /usr/local/lib/python3.11/dist-packages (from onnxruntime>=1.14.1->chromadb) (5.29.4)\n",
            "Requirement already satisfied: sympy in /usr/local/lib/python3.11/dist-packages (from onnxruntime>=1.14.1->chromadb) (1.13.1)\n",
            "Requirement already satisfied: deprecated>=1.2.6 in /usr/local/lib/python3.11/dist-packages (from opentelemetry-api>=1.2.0->chromadb) (1.2.18)\n",
            "Requirement already satisfied: importlib-metadata<8.7.0,>=6.0 in /usr/local/lib/python3.11/dist-packages (from opentelemetry-api>=1.2.0->chromadb) (8.6.1)\n",
            "Requirement already satisfied: googleapis-common-protos~=1.52 in /usr/local/lib/python3.11/dist-packages (from opentelemetry-exporter-otlp-proto-grpc>=1.2.0->chromadb) (1.70.0)\n",
            "Requirement already satisfied: opentelemetry-exporter-otlp-proto-common==1.32.1 in /usr/local/lib/python3.11/dist-packages (from opentelemetry-exporter-otlp-proto-grpc>=1.2.0->chromadb) (1.32.1)\n",
            "Requirement already satisfied: opentelemetry-proto==1.32.1 in /usr/local/lib/python3.11/dist-packages (from opentelemetry-exporter-otlp-proto-grpc>=1.2.0->chromadb) (1.32.1)\n",
            "Requirement already satisfied: opentelemetry-instrumentation-asgi==0.53b1 in /usr/local/lib/python3.11/dist-packages (from opentelemetry-instrumentation-fastapi>=0.41b0->chromadb) (0.53b1)\n",
            "Requirement already satisfied: opentelemetry-instrumentation==0.53b1 in /usr/local/lib/python3.11/dist-packages (from opentelemetry-instrumentation-fastapi>=0.41b0->chromadb) (0.53b1)\n",
            "Requirement already satisfied: opentelemetry-semantic-conventions==0.53b1 in /usr/local/lib/python3.11/dist-packages (from opentelemetry-instrumentation-fastapi>=0.41b0->chromadb) (0.53b1)\n",
            "Requirement already satisfied: opentelemetry-util-http==0.53b1 in /usr/local/lib/python3.11/dist-packages (from opentelemetry-instrumentation-fastapi>=0.41b0->chromadb) (0.53b1)\n",
            "Requirement already satisfied: wrapt<2.0.0,>=1.0.0 in /usr/local/lib/python3.11/dist-packages (from opentelemetry-instrumentation==0.53b1->opentelemetry-instrumentation-fastapi>=0.41b0->chromadb) (1.17.2)\n",
            "Requirement already satisfied: asgiref~=3.0 in /usr/local/lib/python3.11/dist-packages (from opentelemetry-instrumentation-asgi==0.53b1->opentelemetry-instrumentation-fastapi>=0.41b0->chromadb) (3.8.1)\n",
            "Requirement already satisfied: backoff>=1.10.0 in /usr/local/lib/python3.11/dist-packages (from posthog>=2.4.0->chromadb) (2.2.1)\n",
            "Requirement already satisfied: distro>=1.5.0 in /usr/local/lib/python3.11/dist-packages (from posthog>=2.4.0->chromadb) (1.9.0)\n",
            "Requirement already satisfied: annotated-types>=0.6.0 in /usr/local/lib/python3.11/dist-packages (from pydantic<3.0.0,>=2.7.4->langchain) (0.7.0)\n",
            "Requirement already satisfied: pydantic-core==2.33.1 in /usr/local/lib/python3.11/dist-packages (from pydantic<3.0.0,>=2.7.4->langchain) (2.33.1)\n",
            "Requirement already satisfied: typing-inspection>=0.4.0 in /usr/local/lib/python3.11/dist-packages (from pydantic<3.0.0,>=2.7.4->langchain) (0.4.0)\n",
            "Requirement already satisfied: python-dotenv>=0.21.0 in /usr/local/lib/python3.11/dist-packages (from pydantic-settings<3.0.0,>=2.4.0->langchain-community) (1.1.0)\n",
            "Requirement already satisfied: charset-normalizer<4,>=2 in /usr/local/lib/python3.11/dist-packages (from requests<3,>=2->langchain) (3.4.1)\n",
            "Requirement already satisfied: markdown-it-py>=2.2.0 in /usr/local/lib/python3.11/dist-packages (from rich>=10.11.0->chromadb) (3.0.0)\n",
            "Requirement already satisfied: pygments<3.0.0,>=2.13.0 in /usr/local/lib/python3.11/dist-packages (from rich>=10.11.0->chromadb) (2.19.1)\n",
            "Requirement already satisfied: greenlet>=1 in /usr/local/lib/python3.11/dist-packages (from SQLAlchemy<3,>=1.4->langchain) (3.2.1)\n",
            "Requirement already satisfied: networkx in /usr/local/lib/python3.11/dist-packages (from torch>=1.11.0->sentence-transformers) (3.4.2)\n",
            "Requirement already satisfied: jinja2 in /usr/local/lib/python3.11/dist-packages (from torch>=1.11.0->sentence-transformers) (3.1.6)\n",
            "Requirement already satisfied: nvidia-cuda-nvrtc-cu12==12.4.127 in /usr/local/lib/python3.11/dist-packages (from torch>=1.11.0->sentence-transformers) (12.4.127)\n",
            "Requirement already satisfied: nvidia-cuda-runtime-cu12==12.4.127 in /usr/local/lib/python3.11/dist-packages (from torch>=1.11.0->sentence-transformers) (12.4.127)\n",
            "Requirement already satisfied: nvidia-cuda-cupti-cu12==12.4.127 in /usr/local/lib/python3.11/dist-packages (from torch>=1.11.0->sentence-transformers) (12.4.127)\n",
            "Requirement already satisfied: nvidia-cudnn-cu12==9.1.0.70 in /usr/local/lib/python3.11/dist-packages (from torch>=1.11.0->sentence-transformers) (9.1.0.70)\n",
            "Requirement already satisfied: nvidia-cublas-cu12==12.4.5.8 in /usr/local/lib/python3.11/dist-packages (from torch>=1.11.0->sentence-transformers) (12.4.5.8)\n",
            "Requirement already satisfied: nvidia-cufft-cu12==11.2.1.3 in /usr/local/lib/python3.11/dist-packages (from torch>=1.11.0->sentence-transformers) (11.2.1.3)\n",
            "Requirement already satisfied: nvidia-curand-cu12==10.3.5.147 in /usr/local/lib/python3.11/dist-packages (from torch>=1.11.0->sentence-transformers) (10.3.5.147)\n",
            "Requirement already satisfied: nvidia-cusolver-cu12==11.6.1.9 in /usr/local/lib/python3.11/dist-packages (from torch>=1.11.0->sentence-transformers) (11.6.1.9)\n",
            "Requirement already satisfied: nvidia-cusparse-cu12==12.3.1.170 in /usr/local/lib/python3.11/dist-packages (from torch>=1.11.0->sentence-transformers) (12.3.1.170)\n",
            "Requirement already satisfied: nvidia-cusparselt-cu12==0.6.2 in /usr/local/lib/python3.11/dist-packages (from torch>=1.11.0->sentence-transformers) (0.6.2)\n",
            "Requirement already satisfied: nvidia-nccl-cu12==2.21.5 in /usr/local/lib/python3.11/dist-packages (from torch>=1.11.0->sentence-transformers) (2.21.5)\n",
            "Requirement already satisfied: nvidia-nvtx-cu12==12.4.127 in /usr/local/lib/python3.11/dist-packages (from torch>=1.11.0->sentence-transformers) (12.4.127)\n",
            "Requirement already satisfied: nvidia-nvjitlink-cu12==12.4.127 in /usr/local/lib/python3.11/dist-packages (from torch>=1.11.0->sentence-transformers) (12.4.127)\n",
            "Requirement already satisfied: triton==3.2.0 in /usr/local/lib/python3.11/dist-packages (from torch>=1.11.0->sentence-transformers) (3.2.0)\n",
            "Requirement already satisfied: mpmath<1.4,>=1.1.0 in /usr/local/lib/python3.11/dist-packages (from sympy->onnxruntime>=1.14.1->chromadb) (1.3.0)\n",
            "Requirement already satisfied: click>=8.0.0 in /usr/local/lib/python3.11/dist-packages (from typer>=0.9.0->chromadb) (8.1.8)\n",
            "Requirement already satisfied: shellingham>=1.3.0 in /usr/local/lib/python3.11/dist-packages (from typer>=0.9.0->chromadb) (1.5.4)\n",
            "Requirement already satisfied: httptools>=0.6.3 in /usr/local/lib/python3.11/dist-packages (from uvicorn[standard]>=0.18.3->chromadb) (0.6.4)\n",
            "Requirement already satisfied: uvloop!=0.15.0,!=0.15.1,>=0.14.0 in /usr/local/lib/python3.11/dist-packages (from uvicorn[standard]>=0.18.3->chromadb) (0.21.0)\n",
            "Requirement already satisfied: watchfiles>=0.13 in /usr/local/lib/python3.11/dist-packages (from uvicorn[standard]>=0.18.3->chromadb) (1.0.5)\n",
            "Requirement already satisfied: websockets>=10.4 in /usr/local/lib/python3.11/dist-packages (from uvicorn[standard]>=0.18.3->chromadb) (15.0.1)\n",
            "Requirement already satisfied: joblib>=1.2.0 in /usr/local/lib/python3.11/dist-packages (from scikit-learn->sentence-transformers) (1.4.2)\n",
            "Requirement already satisfied: threadpoolctl>=3.1.0 in /usr/local/lib/python3.11/dist-packages (from scikit-learn->sentence-transformers) (3.6.0)\n",
            "Requirement already satisfied: cachetools<6.0,>=2.0.0 in /usr/local/lib/python3.11/dist-packages (from google-auth>=1.0.1->kubernetes>=28.1.0->chromadb) (5.5.2)\n",
            "Requirement already satisfied: pyasn1-modules>=0.2.1 in /usr/local/lib/python3.11/dist-packages (from google-auth>=1.0.1->kubernetes>=28.1.0->chromadb) (0.4.2)\n",
            "Requirement already satisfied: rsa<5,>=3.1.4 in /usr/local/lib/python3.11/dist-packages (from google-auth>=1.0.1->kubernetes>=28.1.0->chromadb) (4.9.1)\n",
            "Requirement already satisfied: zipp>=3.20 in /usr/local/lib/python3.11/dist-packages (from importlib-metadata<8.7.0,>=6.0->opentelemetry-api>=1.2.0->chromadb) (3.21.0)\n",
            "Requirement already satisfied: jsonpointer>=1.9 in /usr/local/lib/python3.11/dist-packages (from jsonpatch<2.0,>=1.33->langchain-core<1.0.0,>=0.3.58->langchain) (3.0.0)\n",
            "Requirement already satisfied: mdurl~=0.1 in /usr/local/lib/python3.11/dist-packages (from markdown-it-py>=2.2.0->rich>=10.11.0->chromadb) (0.1.2)\n",
            "Requirement already satisfied: sniffio>=1.1 in /usr/local/lib/python3.11/dist-packages (from anyio->httpx>=0.27.0->chromadb) (1.3.1)\n",
            "Requirement already satisfied: mypy-extensions>=0.3.0 in /usr/local/lib/python3.11/dist-packages (from typing-inspect<1,>=0.4.0->dataclasses-json<0.7,>=0.5.7->langchain-community) (1.1.0)\n",
            "Requirement already satisfied: humanfriendly>=9.1 in /usr/local/lib/python3.11/dist-packages (from coloredlogs->onnxruntime>=1.14.1->chromadb) (10.0)\n",
            "Requirement already satisfied: MarkupSafe>=2.0 in /usr/local/lib/python3.11/dist-packages (from jinja2->torch>=1.11.0->sentence-transformers) (3.0.2)\n",
            "Requirement already satisfied: pyasn1<0.7.0,>=0.6.1 in /usr/local/lib/python3.11/dist-packages (from pyasn1-modules>=0.2.1->google-auth>=1.0.1->kubernetes>=28.1.0->chromadb) (0.6.1)\n"
          ]
        }
      ]
    },
    {
      "cell_type": "code",
      "source": [
        "import pandas as pd\n",
        "\n",
        "df = pd.read_csv(\"/content/german.csv\", sep=';')\n",
        "\n",
        "def to_case(row):\n",
        "    return (\n",
        "        f\"Applicant is {row['Sex_Marital_Status']}, works as {row['Occupation']}, \"\n",
        "        f\"Age: {row['Age_years']}, Loan Amount: {row['Credit_Amount']} for {row['Purpose']} purpose, \"\n",
        "        f\"Credit History: {row['Payment_Status_of_Previous_Credit']}, \"\n",
        "        f\"Savings: {row['Value_Savings_Stocks']}, Employment Duration: {row['Length_of_current_employment']}, \"\n",
        "        f\"Assets: {row['Most_valuable_available_asset']}, Creditability: {row['Creditability']}.\"\n",
        "    )\n",
        "\n",
        "df[\"narrative\"] = df.apply(to_case, axis=1)\n"
      ],
      "metadata": {
        "id": "rDu0fU941hwa"
      },
      "execution_count": 2,
      "outputs": []
    },
    {
      "cell_type": "code",
      "source": [
        "from langchain.vectorstores import Chroma\n",
        "from langchain.embeddings import SentenceTransformerEmbeddings\n",
        "from langchain.docstore.document import Document\n",
        "\n",
        "docs = [Document(page_content=text) for text in df['narrative'].tolist()]\n",
        "embedding_model = SentenceTransformerEmbeddings(model_name='all-MiniLM-L6-v2')\n",
        "\n",
        "vectorstore = Chroma.from_documents(docs, embedding_model, persist_directory=\"./chroma_loan_db\")\n",
        "retriever = vectorstore.as_retriever(search_kwargs={\"k\": 3})\n"
      ],
      "metadata": {
        "colab": {
          "base_uri": "https://localhost:8080/"
        },
        "id": "eH4V6HT14ip0",
        "outputId": "03850306-bfea-48fd-c269-e5e448719dcf"
      },
      "execution_count": 3,
      "outputs": [
        {
          "output_type": "stream",
          "name": "stderr",
          "text": [
            "<ipython-input-3-025c49f53528>:6: LangChainDeprecationWarning: The class `HuggingFaceEmbeddings` was deprecated in LangChain 0.2.2 and will be removed in 1.0. An updated version of the class exists in the :class:`~langchain-huggingface package and should be used instead. To use it run `pip install -U :class:`~langchain-huggingface` and import as `from :class:`~langchain_huggingface import HuggingFaceEmbeddings``.\n",
            "  embedding_model = SentenceTransformerEmbeddings(model_name='all-MiniLM-L6-v2')\n",
            "/usr/local/lib/python3.11/dist-packages/huggingface_hub/utils/_auth.py:94: UserWarning: \n",
            "The secret `HF_TOKEN` does not exist in your Colab secrets.\n",
            "To authenticate with the Hugging Face Hub, create a token in your settings tab (https://huggingface.co/settings/tokens), set it as secret in your Google Colab and restart your session.\n",
            "You will be able to reuse this secret in all of your notebooks.\n",
            "Please note that authentication is recommended but still optional to access public models or datasets.\n",
            "  warnings.warn(\n"
          ]
        }
      ]
    },
    {
      "cell_type": "code",
      "source": [
        "\n",
        "# For models like FLAN-T5, LaMini-Flan (encoder-decoder models)\n",
        "from transformers import pipeline\n",
        "\n",
        "def load_text2text_pipeline(model_name):\n",
        "    \"\"\"\n",
        "    Loads a text2text-generation model.\n",
        "    Example: FLAN-T5, LaMini-Flan.\n",
        "    \"\"\"\n",
        "    return pipeline(\"text2text-generation\", model=model_name, device_map=\"auto\")\n",
        "\n",
        "# For models like Falcon, GPT2 (decoder-only models)\n",
        "def load_text_generation_pipeline(model_name):\n",
        "    \"\"\"\n",
        "    Loads a text-generation model.\n",
        "    Example: Falcon, GPT2, etc.\n",
        "    \"\"\"\n",
        "    return pipeline(\"text-generation\", model=model_name, device_map=\"auto\")\n",
        "\n"
      ],
      "metadata": {
        "id": "fk_IknUEUWxB"
      },
      "execution_count": 4,
      "outputs": []
    },
    {
      "cell_type": "code",
      "source": [
        "from transformers import pipeline, AutoTokenizer, AutoModelForSeq2SeqLM, AutoModelForCausalLM\n",
        "from langchain.llms import HuggingFacePipeline\n",
        "\n",
        "def load_seq2seq_llm(model_name):\n",
        "    tokenizer = AutoTokenizer.from_pretrained(model_name)\n",
        "    model = AutoModelForSeq2SeqLM.from_pretrained(model_name)\n",
        "    pipe = pipeline(\"text2text-generation\", model=model, tokenizer=tokenizer)\n",
        "    return HuggingFacePipeline(pipeline=pipe)\n",
        "\n",
        "def load_causal_llm(model_name):\n",
        "    tokenizer = AutoTokenizer.from_pretrained(model_name)\n",
        "    model = AutoModelForCausalLM.from_pretrained(model_name)\n",
        "    pipe = pipeline(\"text-generation\", model=model, tokenizer=tokenizer)\n",
        "    return HuggingFacePipeline(pipeline=pipe)\n",
        "\n",
        "models = {\n",
        "    \"FLAN-T5-Base\": HuggingFacePipeline(pipeline=load_text2text_pipeline(\"google/flan-t5-base\")),\n",
        "      \"LaMini-Flan-T5-248M\": HuggingFacePipeline(pipeline=load_text2text_pipeline(\"MBZUAI/LaMini-Flan-T5-248M\")),\n",
        "    \"Falcon-RW-1B\": HuggingFacePipeline(pipeline=load_text_generation_pipeline(\"tiiuae/falcon-rw-1b\"))\n",
        "}\n"
      ],
      "metadata": {
        "colab": {
          "base_uri": "https://localhost:8080/"
        },
        "id": "D-602kfE4lFu",
        "outputId": "019b48cf-05f0-4e51-cfc7-2635dd222d24"
      },
      "execution_count": 5,
      "outputs": [
        {
          "output_type": "stream",
          "name": "stderr",
          "text": [
            "Device set to use cuda:0\n",
            "<ipython-input-5-69b781fa5548>:17: LangChainDeprecationWarning: The class `HuggingFacePipeline` was deprecated in LangChain 0.0.37 and will be removed in 1.0. An updated version of the class exists in the :class:`~langchain-huggingface package and should be used instead. To use it run `pip install -U :class:`~langchain-huggingface` and import as `from :class:`~langchain_huggingface import HuggingFacePipeline``.\n",
            "  \"FLAN-T5-Base\": HuggingFacePipeline(pipeline=load_text2text_pipeline(\"google/flan-t5-base\")),\n",
            "Device set to use cuda:0\n",
            "Device set to use cuda:0\n"
          ]
        }
      ]
    },
    {
      "cell_type": "code",
      "source": [
        "from langchain.prompts import PromptTemplate\n",
        "\n",
        "# For FLAN models (already working)\n",
        "flan_prompt_template = PromptTemplate.from_template(\n",
        "    \"Answer the question using the context.\\nContext:\\n{context}\\n\\nQuestion: {question}\"\n",
        ")\n",
        "\n",
        "# For Falcon-RW-1B (few-shot example added)\n",
        "falcon_prompt_template = PromptTemplate.from_template(\n",
        "    \"You are a loan risk evaluator. Answer clearly based on the context.\\n\\n\"\n",
        "    \"Example:\\n\"\n",
        "    \"Context: Applicant is employed with stable income and high savings.\\n\"\n",
        "    \"Question: Should we approve a loan?\\n\"\n",
        "    \"Answer: Yes, the applicant is low risk.\\n\\n\"\n",
        "    \"Now:\\n\"\n",
        "    \"Context:\\n{context}\\n\\nQuestion:\\n{question}\\nAnswer:\"\n",
        ")\n",
        "from langchain.chains import RetrievalQA\n",
        "\n",
        "chains = {\n",
        "    \"FLAN-T5-Base\": RetrievalQA.from_chain_type(\n",
        "        llm=models[\"FLAN-T5-Base\"],\n",
        "        retriever=retriever,\n",
        "        chain_type=\"stuff\",\n",
        "        chain_type_kwargs={\"prompt\": flan_prompt_template}\n",
        "    ),\n",
        "     \"LaMini-Flan-T5-248M\": RetrievalQA.from_chain_type(\n",
        "        llm=models[\"LaMini-Flan-T5-248M\"],\n",
        "        retriever=retriever,\n",
        "        chain_type=\"stuff\",\n",
        "        chain_type_kwargs={\"prompt\": flan_prompt_template}\n",
        "    ),\n",
        "    \"Falcon-RW-1B\": RetrievalQA.from_chain_type(\n",
        "        llm=models[\"Falcon-RW-1B\"],\n",
        "        retriever=retriever,\n",
        "        chain_type=\"stuff\",\n",
        "        chain_type_kwargs={\"prompt\": falcon_prompt_template}\n",
        "    )\n",
        "}\n"
      ],
      "metadata": {
        "id": "I53jhe3vEgg9"
      },
      "execution_count": 6,
      "outputs": []
    },
    {
      "cell_type": "code",
      "source": [
        "loan_questions = [\n",
        "    \"Should we approve a loan for an applicant with high savings and stable employment?\",\n",
        "    \"Is it risky to approve loans for applicants with poor credit history?\",\n",
        "    \"Does being a foreign worker impact loan approval chances?\",\n",
        "    \"How does the duration at current address affect loan approval?\",\n",
        "    \"Is it safer to lend to applicants with multiple guarantors?\",\n",
        "    \"How important is age in assessing loan eligibility?\",\n",
        "    \"Does longer employment duration reduce loan risk?\",\n",
        "    \"What factors increase the chances of loan default?\",\n",
        "    \"Should applicants with no valuable assets be approved easily?\",\n",
        "    \"How does the number of credits at this bank affect approval chances?\"\n",
        "]\n"
      ],
      "metadata": {
        "id": "6TDHYVNY4vaz"
      },
      "execution_count": 7,
      "outputs": []
    },
    {
      "cell_type": "code",
      "source": [
        "def compare_models(chains, questions):\n",
        "    model_responses = {name: [] for name in chains.keys()}\n",
        "\n",
        "    for idx, q in enumerate(questions):\n",
        "        print(f\"\\n📚 Question {idx+1}: {q}\\n{'='*70}\")\n",
        "\n",
        "        for name, chain in chains.items():\n",
        "            try:\n",
        "                raw_answer = chain.run(q)\n",
        "\n",
        "                # Special cleaning for Falcon outputs\n",
        "                if name == \"Falcon-RW-1B\":\n",
        "                    answer = raw_answer.split(\"Answer:\")[-1].strip().split(\"\\n\")[0]\n",
        "                else:\n",
        "                    answer = raw_answer.strip()\n",
        "\n",
        "                model_responses[name].append(answer)\n",
        "                print(f\" {name}:\\n{answer}\\n{'-'*50}\")\n",
        "            except Exception as e:\n",
        "                model_responses[name].append(\"Error\")\n",
        "                print(f\" {name}: Error - {e}\")\n",
        "\n",
        "    return model_responses\n"
      ],
      "metadata": {
        "id": "_-qBAi4-HrAB"
      },
      "execution_count": 8,
      "outputs": []
    },
    {
      "cell_type": "code",
      "source": [
        "model_answers = compare_models(chains, loan_questions)\n",
        "\n"
      ],
      "metadata": {
        "colab": {
          "base_uri": "https://localhost:8080/"
        },
        "id": "eced6yLx40Ae",
        "outputId": "db35f2d6-44c2-40f9-9034-3c3bbf4a7e1c"
      },
      "execution_count": 9,
      "outputs": [
        {
          "output_type": "stream",
          "name": "stderr",
          "text": [
            "<ipython-input-8-bd56e47be95b>:9: LangChainDeprecationWarning: The method `Chain.run` was deprecated in langchain 0.1.0 and will be removed in 1.0. Use :meth:`~invoke` instead.\n",
            "  raw_answer = chain.run(q)\n"
          ]
        },
        {
          "output_type": "stream",
          "name": "stdout",
          "text": [
            "\n",
            "📚 Question 1: Should we approve a loan for an applicant with high savings and stable employment?\n",
            "======================================================================\n",
            " FLAN-T5-Base:\n",
            "Yes\n",
            "--------------------------------------------------\n"
          ]
        },
        {
          "output_type": "stream",
          "name": "stderr",
          "text": [
            "Setting `pad_token_id` to `eos_token_id`:2 for open-end generation.\n"
          ]
        },
        {
          "output_type": "stream",
          "name": "stdout",
          "text": [
            " LaMini-Flan-T5-248M:\n",
            "Yes, we should approve a loan for an applicant with high savings and stable employment.\n",
            "--------------------------------------------------\n",
            " Falcon-RW-1B:\n",
            "Yes, the applicant is low risk.\n",
            "--------------------------------------------------\n",
            "\n",
            "📚 Question 2: Is it risky to approve loans for applicants with poor credit history?\n",
            "======================================================================\n",
            " FLAN-T5-Base:\n",
            "no\n",
            "--------------------------------------------------\n"
          ]
        },
        {
          "output_type": "stream",
          "name": "stderr",
          "text": [
            "Setting `pad_token_id` to `eos_token_id`:2 for open-end generation.\n"
          ]
        },
        {
          "output_type": "stream",
          "name": "stdout",
          "text": [
            " LaMini-Flan-T5-248M:\n",
            "It is not possible to determine whether it is risky to approve loans for applicants with poor credit history\n",
            "--------------------------------------------------\n",
            " Falcon-RW-1B:\n",
            "No, it is not risky to approve loans for applicants with poor credit history.\n",
            "--------------------------------------------------\n",
            "\n",
            "📚 Question 3: Does being a foreign worker impact loan approval chances?\n",
            "======================================================================\n",
            " FLAN-T5-Base:\n",
            "Yes\n",
            "--------------------------------------------------\n"
          ]
        },
        {
          "output_type": "stream",
          "name": "stderr",
          "text": [
            "Setting `pad_token_id` to `eos_token_id`:2 for open-end generation.\n"
          ]
        },
        {
          "output_type": "stream",
          "name": "stdout",
          "text": [
            " LaMini-Flan-T5-248M:\n",
            "The context does not provide information about whether being a foreign worker impacts loan approval chances.\n",
            "--------------------------------------------------\n",
            " Falcon-RW-1B:\n",
            "No, it does not.\n",
            "--------------------------------------------------\n",
            "\n",
            "📚 Question 4: How does the duration at current address affect loan approval?\n",
            "======================================================================\n",
            " FLAN-T5-Base:\n",
            "3\n",
            "--------------------------------------------------\n"
          ]
        },
        {
          "output_type": "stream",
          "name": "stderr",
          "text": [
            "Setting `pad_token_id` to `eos_token_id`:2 for open-end generation.\n"
          ]
        },
        {
          "output_type": "stream",
          "name": "stdout",
          "text": [
            " LaMini-Flan-T5-248M:\n",
            "The duration at current address affects loan approval by determining the amount of loan amount and the duration\n",
            "--------------------------------------------------\n",
            " Falcon-RW-1B:\n",
            "The duration at current address is not a factor.\n",
            "--------------------------------------------------\n",
            "\n",
            "📚 Question 5: Is it safer to lend to applicants with multiple guarantors?\n",
            "======================================================================\n",
            " FLAN-T5-Base:\n",
            "yes\n",
            "--------------------------------------------------\n"
          ]
        },
        {
          "output_type": "stream",
          "name": "stderr",
          "text": [
            "Setting `pad_token_id` to `eos_token_id`:2 for open-end generation.\n"
          ]
        },
        {
          "output_type": "stream",
          "name": "stdout",
          "text": [
            " LaMini-Flan-T5-248M:\n",
            "It is not possible to determine whether it is safer to lend to applicants with multiple guaran\n",
            "--------------------------------------------------\n",
            " Falcon-RW-1B:\n",
            "Yes, it is safer to lend to applicants with multiple guarantors.\n",
            "--------------------------------------------------\n",
            "\n",
            "📚 Question 6: How important is age in assessing loan eligibility?\n",
            "======================================================================\n",
            " FLAN-T5-Base:\n",
            "23\n",
            "--------------------------------------------------\n"
          ]
        },
        {
          "output_type": "stream",
          "name": "stderr",
          "text": [
            "Setting `pad_token_id` to `eos_token_id`:2 for open-end generation.\n"
          ]
        },
        {
          "output_type": "stream",
          "name": "stdout",
          "text": [
            " LaMini-Flan-T5-248M:\n",
            "Age is very important in assessing loan eligibility.\n",
            "--------------------------------------------------\n",
            " Falcon-RW-1B:\n",
            "Age is important in assessing loan eligibility.\n",
            "--------------------------------------------------\n",
            "\n",
            "📚 Question 7: Does longer employment duration reduce loan risk?\n",
            "======================================================================\n",
            " FLAN-T5-Base:\n",
            "Yes\n",
            "--------------------------------------------------\n"
          ]
        },
        {
          "output_type": "stream",
          "name": "stderr",
          "text": [
            "Setting `pad_token_id` to `eos_token_id`:2 for open-end generation.\n"
          ]
        },
        {
          "output_type": "stream",
          "name": "stdout",
          "text": [
            " LaMini-Flan-T5-248M:\n",
            "The context does not provide information about whether longer employment duration reduces loan risk.\n",
            "--------------------------------------------------\n",
            " Falcon-RW-1B:\n",
            "No, it does not.\n",
            "--------------------------------------------------\n",
            "\n",
            "📚 Question 8: What factors increase the chances of loan default?\n",
            "======================================================================\n",
            " FLAN-T5-Base:\n",
            "Age: 26, Loan Amount: 9960 for 2 purpose, Credit History: 2, Savings:\n",
            "--------------------------------------------------\n"
          ]
        },
        {
          "output_type": "stream",
          "name": "stderr",
          "text": [
            "Setting `pad_token_id` to `eos_token_id`:2 for open-end generation.\n"
          ]
        },
        {
          "output_type": "stream",
          "name": "stdout",
          "text": [
            " LaMini-Flan-T5-248M:\n",
            "The factors that increase the chances of loan default are the applicant's credit history, savings history,\n",
            "--------------------------------------------------\n",
            " Falcon-RW-1B:\n",
            "- Low income\n",
            "--------------------------------------------------\n",
            "\n",
            "📚 Question 9: Should applicants with no valuable assets be approved easily?\n",
            "======================================================================\n",
            " FLAN-T5-Base:\n",
            "No\n",
            "--------------------------------------------------\n"
          ]
        },
        {
          "output_type": "stream",
          "name": "stderr",
          "text": [
            "Setting `pad_token_id` to `eos_token_id`:2 for open-end generation.\n"
          ]
        },
        {
          "output_type": "stream",
          "name": "stdout",
          "text": [
            " LaMini-Flan-T5-248M:\n",
            "No, applicants with no valuable assets should not be approved easily.\n",
            "--------------------------------------------------\n",
            " Falcon-RW-1B:\n",
            "No.\n",
            "--------------------------------------------------\n",
            "\n",
            "📚 Question 10: How does the number of credits at this bank affect approval chances?\n",
            "======================================================================\n",
            " FLAN-T5-Base:\n",
            "The number of credits at this bank affects approval chances.\n",
            "--------------------------------------------------\n"
          ]
        },
        {
          "output_type": "stream",
          "name": "stderr",
          "text": [
            "Setting `pad_token_id` to `eos_token_id`:2 for open-end generation.\n"
          ]
        },
        {
          "output_type": "stream",
          "name": "stdout",
          "text": [
            " LaMini-Flan-T5-248M:\n",
            "The number of credits at this bank affects approval chances by determining the applicant's credit history\n",
            "--------------------------------------------------\n",
            " Falcon-RW-1B:\n",
            "The number of credits at this bank is 2.\n",
            "--------------------------------------------------\n"
          ]
        }
      ]
    },
    {
      "cell_type": "code",
      "source": [
        "def calculate_final_accuracy_and_time(model_results):\n",
        "    accuracies = {}\n",
        "    avg_times = {}\n",
        "\n",
        "    for model, results in model_results.items():\n",
        "        correct_answers = results[\"correct\"]\n",
        "        times = results[\"times\"]\n",
        "\n",
        "        accuracy = sum(correct_answers) / len(correct_answers) if correct_answers else 0\n",
        "        avg_time = sum(times) / len(times) if times else 0\n",
        "\n",
        "        accuracies[model] = accuracy\n",
        "        avg_times[model] = avg_time\n",
        "\n",
        "    return accuracies, avg_times\n",
        "\n"
      ],
      "metadata": {
        "id": "M2m4vN6YYmKR"
      },
      "execution_count": 10,
      "outputs": []
    },
    {
      "cell_type": "code",
      "source": [
        "import time\n",
        "\n",
        "def evaluate_models_with_accuracy_and_time(chains, questions, expected_keywords):\n",
        "    model_results = {name: {\"responses\": [], \"correct\": [], \"times\": []} for name in chains.keys()}\n",
        "\n",
        "    for idx, q in enumerate(questions):\n",
        "        print(f\"\\nQuestion {idx+1}: {q}\\n{'='*70}\")\n",
        "\n",
        "        for name, chain in chains.items():\n",
        "            try:\n",
        "                start_time = time.time()\n",
        "                raw_answer = chain.run(q)\n",
        "                end_time = time.time()\n",
        "\n",
        "                # --- FIX: handle list outputs from models like LaMini, Falcon\n",
        "                if isinstance(raw_answer, list):\n",
        "                    raw_answer = raw_answer[0][\"generated_text\"]\n",
        "\n",
        "                # Special cleaning for Falcon\n",
        "                if name == \"Falcon-RW-1B\":\n",
        "                    answer = raw_answer.split(\"Answer:\")[-1].strip().split(\"\\n\")[0]\n",
        "                else:\n",
        "                    answer = raw_answer.strip()\n",
        "\n",
        "                model_results[name][\"responses\"].append(answer)\n",
        "                model_results[name][\"times\"].append(end_time - start_time)\n",
        "\n",
        "                answer_lower = answer.lower()\n",
        "                expected_list = expected_keywords.get(idx, [])\n",
        "\n",
        "                # Check if any keyword matches\n",
        "                if any(keyword.lower() in answer_lower for keyword in expected_list):\n",
        "                    model_results[name][\"correct\"].append(1)\n",
        "                else:\n",
        "                    model_results[name][\"correct\"].append(0)\n",
        "\n",
        "                print(f\" {name}: {answer}\\n{'-'*50}\")\n",
        "\n",
        "            except Exception as e:\n",
        "                model_results[name][\"responses\"].append(\"Error\")\n",
        "                model_results[name][\"correct\"].append(0)\n",
        "                model_results[name][\"times\"].append(9999)\n",
        "                print(f\" {name}: Error - {e}\")\n",
        "\n",
        "    return model_results\n"
      ],
      "metadata": {
        "id": "GRfgoZ1QcGm9"
      },
      "execution_count": 11,
      "outputs": []
    },
    {
      "cell_type": "code",
      "source": [
        "# Define your expected short answers\n",
        "expected_answers = {\n",
        "    0: [\"savings\", \"employment\", \"stable\",\"yes\"],\n",
        "    1: [\"credit history\", \"risk\", \"poor\",\"yes\"],\n",
        "    2: [\"yes\"],\n",
        "    3: [\"current address\", \"loan\", \"approval\",\"duration\"],\n",
        "    4: [\"guarantor\", \"safe\", \"lending\",\"yes\"],\n",
        "    5: [\"age\", \"loan eligibility\"],\n",
        "    6: [\"employment duration\", \"loan risk\",\"yes\"],\n",
        "    7: [\"default\", \"factors\"],\n",
        "    8: [\"assets\", \"loan approval\",\"no\"],\n",
        "    9: [\"number of credits\", \"bank\", \"approval\"]\n",
        "}\n",
        "\n",
        "# Step 1: Evaluate all models\n",
        "model_results = evaluate_models_with_accuracy_and_time(chains, loan_questions, expected_answers)\n",
        "\n",
        "# Step 2: Calculate final accuracy and average response time\n",
        "accuracies, avg_times = calculate_final_accuracy_and_time(model_results)\n",
        "\n",
        "# Step 3: Print nicely\n",
        "print(\"\\n Model Accuracy and Time Report:\")\n",
        "for model in accuracies:\n",
        "    print(f\" {model}: Accuracy = {accuracies[model]*100:.1f}%, Avg Time = {avg_times[model]:.2f} sec\")\n"
      ],
      "metadata": {
        "colab": {
          "base_uri": "https://localhost:8080/"
        },
        "id": "3XThbNh8O-6p",
        "outputId": "34aa48f6-6401-4e9c-820c-1d158953dca6"
      },
      "execution_count": 12,
      "outputs": [
        {
          "output_type": "stream",
          "name": "stderr",
          "text": [
            "You seem to be using the pipelines sequentially on GPU. In order to maximize efficiency please use a dataset\n"
          ]
        },
        {
          "output_type": "stream",
          "name": "stdout",
          "text": [
            "\n",
            "Question 1: Should we approve a loan for an applicant with high savings and stable employment?\n",
            "======================================================================\n",
            " FLAN-T5-Base: Yes\n",
            "--------------------------------------------------\n"
          ]
        },
        {
          "output_type": "stream",
          "name": "stderr",
          "text": [
            "Setting `pad_token_id` to `eos_token_id`:2 for open-end generation.\n"
          ]
        },
        {
          "output_type": "stream",
          "name": "stdout",
          "text": [
            " LaMini-Flan-T5-248M: Yes, we should approve a loan for an applicant with high savings and stable employment.\n",
            "--------------------------------------------------\n",
            " Falcon-RW-1B: Yes, the applicant is low risk.\n",
            "--------------------------------------------------\n",
            "\n",
            "Question 2: Is it risky to approve loans for applicants with poor credit history?\n",
            "======================================================================\n",
            " FLAN-T5-Base: no\n",
            "--------------------------------------------------\n"
          ]
        },
        {
          "output_type": "stream",
          "name": "stderr",
          "text": [
            "Setting `pad_token_id` to `eos_token_id`:2 for open-end generation.\n"
          ]
        },
        {
          "output_type": "stream",
          "name": "stdout",
          "text": [
            " LaMini-Flan-T5-248M: It is not possible to determine whether it is risky to approve loans for applicants with poor credit history\n",
            "--------------------------------------------------\n",
            " Falcon-RW-1B: No, it is not risky to approve loans for applicants with poor credit history.\n",
            "--------------------------------------------------\n",
            "\n",
            "Question 3: Does being a foreign worker impact loan approval chances?\n",
            "======================================================================\n",
            " FLAN-T5-Base: Yes\n",
            "--------------------------------------------------\n"
          ]
        },
        {
          "output_type": "stream",
          "name": "stderr",
          "text": [
            "Setting `pad_token_id` to `eos_token_id`:2 for open-end generation.\n"
          ]
        },
        {
          "output_type": "stream",
          "name": "stdout",
          "text": [
            " LaMini-Flan-T5-248M: The context does not provide information about whether being a foreign worker impacts loan approval chances.\n",
            "--------------------------------------------------\n",
            " Falcon-RW-1B: No, it does not.\n",
            "--------------------------------------------------\n",
            "\n",
            "Question 4: How does the duration at current address affect loan approval?\n",
            "======================================================================\n",
            " FLAN-T5-Base: 3\n",
            "--------------------------------------------------\n"
          ]
        },
        {
          "output_type": "stream",
          "name": "stderr",
          "text": [
            "Setting `pad_token_id` to `eos_token_id`:2 for open-end generation.\n"
          ]
        },
        {
          "output_type": "stream",
          "name": "stdout",
          "text": [
            " LaMini-Flan-T5-248M: The duration at current address affects loan approval by determining the amount of loan amount and the duration\n",
            "--------------------------------------------------\n",
            " Falcon-RW-1B: The duration at current address is not a factor.\n",
            "--------------------------------------------------\n",
            "\n",
            "Question 5: Is it safer to lend to applicants with multiple guarantors?\n",
            "======================================================================\n",
            " FLAN-T5-Base: yes\n",
            "--------------------------------------------------\n"
          ]
        },
        {
          "output_type": "stream",
          "name": "stderr",
          "text": [
            "Setting `pad_token_id` to `eos_token_id`:2 for open-end generation.\n"
          ]
        },
        {
          "output_type": "stream",
          "name": "stdout",
          "text": [
            " LaMini-Flan-T5-248M: It is not possible to determine whether it is safer to lend to applicants with multiple guaran\n",
            "--------------------------------------------------\n",
            " Falcon-RW-1B: Yes, it is safer to lend to applicants with multiple guarantors.\n",
            "--------------------------------------------------\n",
            "\n",
            "Question 6: How important is age in assessing loan eligibility?\n",
            "======================================================================\n",
            " FLAN-T5-Base: 23\n",
            "--------------------------------------------------\n"
          ]
        },
        {
          "output_type": "stream",
          "name": "stderr",
          "text": [
            "Setting `pad_token_id` to `eos_token_id`:2 for open-end generation.\n"
          ]
        },
        {
          "output_type": "stream",
          "name": "stdout",
          "text": [
            " LaMini-Flan-T5-248M: Age is very important in assessing loan eligibility.\n",
            "--------------------------------------------------\n",
            " Falcon-RW-1B: Age is important in assessing loan eligibility.\n",
            "--------------------------------------------------\n",
            "\n",
            "Question 7: Does longer employment duration reduce loan risk?\n",
            "======================================================================\n",
            " FLAN-T5-Base: Yes\n",
            "--------------------------------------------------\n"
          ]
        },
        {
          "output_type": "stream",
          "name": "stderr",
          "text": [
            "Setting `pad_token_id` to `eos_token_id`:2 for open-end generation.\n"
          ]
        },
        {
          "output_type": "stream",
          "name": "stdout",
          "text": [
            " LaMini-Flan-T5-248M: The context does not provide information about whether longer employment duration reduces loan risk.\n",
            "--------------------------------------------------\n",
            " Falcon-RW-1B: No, it does not.\n",
            "--------------------------------------------------\n",
            "\n",
            "Question 8: What factors increase the chances of loan default?\n",
            "======================================================================\n",
            " FLAN-T5-Base: Age: 26, Loan Amount: 9960 for 2 purpose, Credit History: 2, Savings:\n",
            "--------------------------------------------------\n"
          ]
        },
        {
          "output_type": "stream",
          "name": "stderr",
          "text": [
            "Setting `pad_token_id` to `eos_token_id`:2 for open-end generation.\n"
          ]
        },
        {
          "output_type": "stream",
          "name": "stdout",
          "text": [
            " LaMini-Flan-T5-248M: The factors that increase the chances of loan default are the applicant's credit history, savings history,\n",
            "--------------------------------------------------\n",
            " Falcon-RW-1B: - Low income\n",
            "--------------------------------------------------\n",
            "\n",
            "Question 9: Should applicants with no valuable assets be approved easily?\n",
            "======================================================================\n",
            " FLAN-T5-Base: No\n",
            "--------------------------------------------------\n"
          ]
        },
        {
          "output_type": "stream",
          "name": "stderr",
          "text": [
            "Setting `pad_token_id` to `eos_token_id`:2 for open-end generation.\n"
          ]
        },
        {
          "output_type": "stream",
          "name": "stdout",
          "text": [
            " LaMini-Flan-T5-248M: No, applicants with no valuable assets should not be approved easily.\n",
            "--------------------------------------------------\n",
            " Falcon-RW-1B: No.\n",
            "--------------------------------------------------\n",
            "\n",
            "Question 10: How does the number of credits at this bank affect approval chances?\n",
            "======================================================================\n",
            " FLAN-T5-Base: The number of credits at this bank affects approval chances.\n",
            "--------------------------------------------------\n"
          ]
        },
        {
          "output_type": "stream",
          "name": "stderr",
          "text": [
            "Setting `pad_token_id` to `eos_token_id`:2 for open-end generation.\n"
          ]
        },
        {
          "output_type": "stream",
          "name": "stdout",
          "text": [
            " LaMini-Flan-T5-248M: The number of credits at this bank affects approval chances by determining the applicant's credit history\n",
            "--------------------------------------------------\n",
            " Falcon-RW-1B: The number of credits at this bank is 2.\n",
            "--------------------------------------------------\n",
            "\n",
            " Model Accuracy and Time Report:\n",
            " FLAN-T5-Base: Accuracy = 60.0%, Avg Time = 0.13 sec\n",
            " LaMini-Flan-T5-248M: Accuracy = 90.0%, Avg Time = 0.38 sec\n",
            " Falcon-RW-1B: Accuracy = 70.0%, Avg Time = 0.69 sec\n"
          ]
        }
      ]
    },
    {
      "cell_type": "code",
      "source": [
        "import matplotlib.pyplot as plt\n",
        "\n",
        "# Step 1: Prepare the data\n",
        "model_names = list(accuracies.keys())\n",
        "accuracy_values = list(accuracies.values())\n",
        "time_values = list(avg_times.values())\n",
        "\n",
        "# Step 2: Plot side-by-side charts\n",
        "fig, axs = plt.subplots(1, 2, figsize=(14, 5))\n",
        "\n",
        "# 2a. Accuracy Chart\n",
        "axs[0].bar(model_names, accuracy_values, color=['skyblue', 'lightgreen', 'salmon'])\n",
        "axs[0].set_title(\"Model Accuracy Comparison\")\n",
        "axs[0].set_ylabel(\"Accuracy (Fraction)\")\n",
        "axs[0].set_ylim(0, 1.1)\n",
        "axs[0].grid(axis='y')\n",
        "\n",
        "# 2b. Average Response Time Chart\n",
        "axs[1].bar(model_names, time_values, color=['skyblue', 'lightgreen', 'salmon'])\n",
        "axs[1].set_title(\"Average Response Time Comparison\")\n",
        "axs[1].set_ylabel(\"Time (seconds)\")\n",
        "axs[1].grid(axis='y')\n",
        "\n",
        "# Layout adjustment\n",
        "plt.tight_layout()\n",
        "plt.show()\n"
      ],
      "metadata": {
        "colab": {
          "base_uri": "https://localhost:8080/",
          "height": 369
        },
        "id": "icyhUuRRPf2P",
        "outputId": "db9685ee-b5c7-437a-e1f1-ba4a3ecc9143"
      },
      "execution_count": 13,
      "outputs": [
        {
          "output_type": "display_data",
          "data": {
            "text/plain": [
              "<Figure size 1400x500 with 2 Axes>"
            ],
            "image/png": "[encoded data removed]"
          },
          "metadata": {}
        }
      ]
    },
    {
      "cell_type": "code",
      "source": [
        "import pandas as pd\n",
        "\n",
        "# Assume you already have:\n",
        "# model_results = output from evaluate_models_keyword_based()\n",
        "# loan_questions = list of your 10 loan questions\n",
        "\n",
        "# Step 1: Extract model responses\n",
        "model_answers = {}\n",
        "\n",
        "for model, data in model_results.items():\n",
        "    model_answers[model] = data[\"responses\"]\n",
        "\n",
        "# Step 2: Build the comparison table\n",
        "comparison_data = {\n",
        "    \"Question\": loan_questions\n",
        "}\n",
        "\n",
        "\n",
        "for model in model_answers.keys():\n",
        "    comparison_data[model] = model_answers[model]\n",
        "\n",
        "# Step 3: Create DataFrame\n",
        "comparison_df = pd.DataFrame(comparison_data)\n",
        "\n",
        "# Step 4: Display the table\n",
        "comparison_df\n"
      ],
      "metadata": {
        "id": "xYhCn2_nPvIz",
        "colab": {
          "base_uri": "https://localhost:8080/",
          "height": 536
        },
        "outputId": "4b13a8c0-7be5-4315-de92-912a14fb8beb"
      },
      "execution_count": 14,
      "outputs": [
        {
          "output_type": "execute_result",
          "data": {
            "text/plain": [
              "                                            Question  \\\n",
              "0  Should we approve a loan for an applicant with...   \n",
              "1  Is it risky to approve loans for applicants wi...   \n",
              "2  Does being a foreign worker impact loan approv...   \n",
              "3  How does the duration at current address affec...   \n",
              "4  Is it safer to lend to applicants with multipl...   \n",
              "5  How important is age in assessing loan eligibi...   \n",
              "6  Does longer employment duration reduce loan risk?   \n",
              "7  What factors increase the chances of loan defa...   \n",
              "8  Should applicants with no valuable assets be a...   \n",
              "9  How does the number of credits at this bank af...   \n",
              "\n",
              "                                        FLAN-T5-Base  \\\n",
              "0                                                Yes   \n",
              "1                                                 no   \n",
              "2                                                Yes   \n",
              "3                                                  3   \n",
              "4                                                yes   \n",
              "5                                                 23   \n",
              "6                                                Yes   \n",
              "7  Age: 26, Loan Amount: 9960 for 2 purpose, Cred...   \n",
              "8                                                 No   \n",
              "9  The number of credits at this bank affects app...   \n",
              "\n",
              "                                 LaMini-Flan-T5-248M  \\\n",
              "0  Yes, we should approve a loan for an applicant...   \n",
              "1  It is not possible to determine whether it is ...   \n",
              "2  The context does not provide information about...   \n",
              "3  The duration at current address affects loan a...   \n",
              "4  It is not possible to determine whether it is ...   \n",
              "5  Age is very important in assessing loan eligib...   \n",
              "6  The context does not provide information about...   \n",
              "7  The factors that increase the chances of loan ...   \n",
              "8  No, applicants with no valuable assets should ...   \n",
              "9  The number of credits at this bank affects app...   \n",
              "\n",
              "                                        Falcon-RW-1B  \n",
              "0                    Yes, the applicant is low risk.  \n",
              "1  No, it is not risky to approve loans for appli...  \n",
              "2                                   No, it does not.  \n",
              "3   The duration at current address is not a factor.  \n",
              "4  Yes, it is safer to lend to applicants with mu...  \n",
              "5    Age is important in assessing loan eligibility.  \n",
              "6                                   No, it does not.  \n",
              "7                                       - Low income  \n",
              "8                                                No.  \n",
              "9           The number of credits at this bank is 2.  "
            ],
            "text/html": [
              "\n",
              "  <div id=\"df-6e92378a-3c1e-4bd6-a763-713fde37fe49\" class=\"colab-df-container\">\n",
              "    <div>\n",
              "<style scoped>\n",
              "    .dataframe tbody tr th:only-of-type {\n",
              "        vertical-align: middle;\n",
              "    }\n",
              "\n",
              "    .dataframe tbody tr th {\n",
              "        vertical-align: top;\n",
              "    }\n",
              "\n",
              "    .dataframe thead th {\n",
              "        text-align: right;\n",
              "    }\n",
              "</style>\n",
              "<table border=\"1\" class=\"dataframe\">\n",
              "  <thead>\n",
              "    <tr style=\"text-align: right;\">\n",
              "      <th></th>\n",
              "      <th>Question</th>\n",
              "      <th>FLAN-T5-Base</th>\n",
              "      <th>LaMini-Flan-T5-248M</th>\n",
              "      <th>Falcon-RW-1B</th>\n",
              "    </tr>\n",
              "  </thead>\n",
              "  <tbody>\n",
              "    <tr>\n",
              "      <th>0</th>\n",
              "      <td>Should we approve a loan for an applicant with...</td>\n",
              "      <td>Yes</td>\n",
              "      <td>Yes, we should approve a loan for an applicant...</td>\n",
              "      <td>Yes, the applicant is low risk.</td>\n",
              "    </tr>\n",
              "    <tr>\n",
              "      <th>1</th>\n",
              "      <td>Is it risky to approve loans for applicants wi...</td>\n",
              "      <td>no</td>\n",
              "      <td>It is not possible to determine whether it is ...</td>\n",
              "      <td>No, it is not risky to approve loans for appli...</td>\n",
              "    </tr>\n",
              "    <tr>\n",
              "      <th>2</th>\n",
              "      <td>Does being a foreign worker impact loan approv...</td>\n",
              "      <td>Yes</td>\n",
              "      <td>The context does not provide information about...</td>\n",
              "      <td>No, it does not.</td>\n",
              "    </tr>\n",
              "    <tr>\n",
              "      <th>3</th>\n",
              "      <td>How does the duration at current address affec...</td>\n",
              "      <td>3</td>\n",
              "      <td>The duration at current address affects loan a...</td>\n",
              "      <td>The duration at current address is not a factor.</td>\n",
              "    </tr>\n",
              "    <tr>\n",
              "      <th>4</th>\n",
              "      <td>Is it safer to lend to applicants with multipl...</td>\n",
              "      <td>yes</td>\n",
              "      <td>It is not possible to determine whether it is ...</td>\n",
              "      <td>Yes, it is safer to lend to applicants with mu...</td>\n",
              "    </tr>\n",
              "    <tr>\n",
              "      <th>5</th>\n",
              "      <td>How important is age in assessing loan eligibi...</td>\n",
              "      <td>23</td>\n",
              "      <td>Age is very important in assessing loan eligib...</td>\n",
              "      <td>Age is important in assessing loan eligibility.</td>\n",
              "    </tr>\n",
              "    <tr>\n",
              "      <th>6</th>\n",
              "      <td>Does longer employment duration reduce loan risk?</td>\n",
              "      <td>Yes</td>\n",
              "      <td>The context does not provide information about...</td>\n",
              "      <td>No, it does not.</td>\n",
              "    </tr>\n",
              "    <tr>\n",
              "      <th>7</th>\n",
              "      <td>What factors increase the chances of loan defa...</td>\n",
              "      <td>Age: 26, Loan Amount: 9960 for 2 purpose, Cred...</td>\n",
              "      <td>The factors that increase the chances of loan ...</td>\n",
              "      <td>- Low income</td>\n",
              "    </tr>\n",
              "    <tr>\n",
              "      <th>8</th>\n",
              "      <td>Should applicants with no valuable assets be a...</td>\n",
              "      <td>No</td>\n",
              "      <td>No, applicants with no valuable assets should ...</td>\n",
              "      <td>No.</td>\n",
              "    </tr>\n",
              "    <tr>\n",
              "      <th>9</th>\n",
              "      <td>How does the number of credits at this bank af...</td>\n",
              "      <td>The number of credits at this bank affects app...</td>\n",
              "      <td>The number of credits at this bank affects app...</td>\n",
              "      <td>The number of credits at this bank is 2.</td>\n",
              "    </tr>\n",
              "  </tbody>\n",
              "</table>\n",
              "</div>\n",
              "    <div class=\"colab-df-buttons\">\n",
              "\n",
              "  <div class=\"colab-df-container\">\n",
              "    <button class=\"colab-df-convert\" onclick=\"convertToInteractive('df-6e92378a-3c1e-4bd6-a763-713fde37fe49')\"\n",
              "            title=\"Convert this dataframe to an interactive table.\"\n",
              "            style=\"display:none;\">\n",
              "\n",
              "  <svg xmlns=\"http://www.w3.org/2000/svg\" height=\"24px\" viewBox=\"0 -960 960 960\">\n",
              "    <path d=\"M120-120v-720h720v720H120Zm60-500h600v-160H180v160Zm220 220h160v-160H400v160Zm0 220h160v-160H400v160ZM180-400h160v-160H180v160Zm440 0h160v-160H620v160ZM180-180h160v-160H180v160Zm440 0h160v-160H620v160Z\"/>\n",
              "  </svg>\n",
              "    </button>\n",
              "\n",
              "  <style>\n",
              "    .colab-df-container {\n",
              "      display:flex;\n",
              "      gap: 12px;\n",
              "    }\n",
              "\n",
              "    .colab-df-convert {\n",
              "      background-color: #E8F0FE;\n",
              "      border: none;\n",
              "      border-radius: 50%;\n",
              "      cursor: pointer;\n",
              "      display: none;\n",
              "      fill: #1967D2;\n",
              "      height: 32px;\n",
              "      padding: 0 0 0 0;\n",
              "      width: 32px;\n",
              "    }\n",
              "\n",
              "    .colab-df-convert:hover {\n",
              "      background-color: #E2EBFA;\n",
              "      box-shadow: 0px 1px 2px rgba(60, 64, 67, 0.3), 0px 1px 3px 1px rgba(60, 64, 67, 0.15);\n",
              "      fill: #174EA6;\n",
              "    }\n",
              "\n",
              "    .colab-df-buttons div {\n",
              "      margin-bottom: 4px;\n",
              "    }\n",
              "\n",
              "    [theme=dark] .colab-df-convert {\n",
              "      background-color: #3B4455;\n",
              "      fill: #D2E3FC;\n",
              "    }\n",
              "\n",
              "    [theme=dark] .colab-df-convert:hover {\n",
              "      background-color: #434B5C;\n",
              "      box-shadow: 0px 1px 3px 1px rgba(0, 0, 0, 0.15);\n",
              "      filter: drop-shadow(0px 1px 2px rgba(0, 0, 0, 0.3));\n",
              "      fill: #FFFFFF;\n",
              "    }\n",
              "  </style>\n",
              "\n",
              "    <script>\n",
              "      const buttonEl =\n",
              "        document.querySelector('#df-6e92378a-3c1e-4bd6-a763-713fde37fe49 button.colab-df-convert');\n",
              "      buttonEl.style.display =\n",
              "        google.colab.kernel.accessAllowed ? 'block' : 'none';\n",
              "\n",
              "      async function convertToInteractive(key) {\n",
              "        const element = document.querySelector('#df-6e92378a-3c1e-4bd6-a763-713fde37fe49');\n",
              "        const dataTable =\n",
              "          await google.colab.kernel.invokeFunction('convertToInteractive',\n",
              "                                                    [key], {});\n",
              "        if (!dataTable) return;\n",
              "\n",
              "        const docLinkHtml = 'Like what you see? Visit the ' +\n",
              "          '<a target=\"_blank\" href=https://colab.research.google.com/notebooks/data_table.ipynb>data table notebook</a>'\n",
              "          + ' to learn more about interactive tables.';\n",
              "        element.innerHTML = '';\n",
              "        dataTable['output_type'] = 'display_data';\n",
              "        await google.colab.output.renderOutput(dataTable, element);\n",
              "        const docLink = document.createElement('div');\n",
              "        docLink.innerHTML = docLinkHtml;\n",
              "        element.appendChild(docLink);\n",
              "      }\n",
              "    </script>\n",
              "  </div>\n",
              "\n",
              "\n",
              "    <div id=\"df-2e1eb6d8-0a5d-4787-9ab1-43b2f85e649e\">\n",
              "      <button class=\"colab-df-quickchart\" onclick=\"quickchart('df-2e1eb6d8-0a5d-4787-9ab1-43b2f85e649e')\"\n",
              "                title=\"Suggest charts\"\n",
              "                style=\"display:none;\">\n",
              "\n",
              "<svg xmlns=\"http://www.w3.org/2000/svg\" height=\"24px\"viewBox=\"0 0 24 24\"\n",
              "     width=\"24px\">\n",
              "    <g>\n",
              "        <path d=\"M19 3H5c-1.1 0-2 .9-2 2v14c0 1.1.9 2 2 2h14c1.1 0 2-.9 2-2V5c0-1.1-.9-2-2-2zM9 17H7v-7h2v7zm4 0h-2V7h2v10zm4 0h-2v-4h2v4z\"/>\n",
              "    </g>\n",
              "</svg>\n",
              "      </button>\n",
              "\n",
              "<style>\n",
              "  .colab-df-quickchart {\n",
              "      --bg-color: #E8F0FE;\n",
              "      --fill-color: #1967D2;\n",
              "      --hover-bg-color: #E2EBFA;\n",
              "      --hover-fill-color: #174EA6;\n",
              "      --disabled-fill-color: #AAA;\n",
              "      --disabled-bg-color: #DDD;\n",
              "  }\n",
              "\n",
              "  [theme=dark] .colab-df-quickchart {\n",
              "      --bg-color: #3B4455;\n",
              "      --fill-color: #D2E3FC;\n",
              "      --hover-bg-color: #434B5C;\n",
              "      --hover-fill-color: #FFFFFF;\n",
              "      --disabled-bg-color: #3B4455;\n",
              "      --disabled-fill-color: #666;\n",
              "  }\n",
              "\n",
              "  .colab-df-quickchart {\n",
              "    background-color: var(--bg-color);\n",
              "    border: none;\n",
              "    border-radius: 50%;\n",
              "    cursor: pointer;\n",
              "    display: none;\n",
              "    fill: var(--fill-color);\n",
              "    height: 32px;\n",
              "    padding: 0;\n",
              "    width: 32px;\n",
              "  }\n",
              "\n",
              "  .colab-df-quickchart:hover {\n",
              "    background-color: var(--hover-bg-color);\n",
              "    box-shadow: 0 1px 2px rgba(60, 64, 67, 0.3), 0 1px 3px 1px rgba(60, 64, 67, 0.15);\n",
              "    fill: var(--button-hover-fill-color);\n",
              "  }\n",
              "\n",
              "  .colab-df-quickchart-complete:disabled,\n",
              "  .colab-df-quickchart-complete:disabled:hover {\n",
              "    background-color: var(--disabled-bg-color);\n",
              "    fill: var(--disabled-fill-color);\n",
              "    box-shadow: none;\n",
              "  }\n",
              "\n",
              "  .colab-df-spinner {\n",
              "    border: 2px solid var(--fill-color);\n",
              "    border-color: transparent;\n",
              "    border-bottom-color: var(--fill-color);\n",
              "    animation:\n",
              "      spin 1s steps(1) infinite;\n",
              "  }\n",
              "\n",
              "  @keyframes spin {\n",
              "    0% {\n",
              "      border-color: transparent;\n",
              "      border-bottom-color: var(--fill-color);\n",
              "      border-left-color: var(--fill-color);\n",
              "    }\n",
              "    20% {\n",
              "      border-color: transparent;\n",
              "      border-left-color: var(--fill-color);\n",
              "      border-top-color: var(--fill-color);\n",
              "    }\n",
              "    30% {\n",
              "      border-color: transparent;\n",
              "      border-left-color: var(--fill-color);\n",
              "      border-top-color: var(--fill-color);\n",
              "      border-right-color: var(--fill-color);\n",
              "    }\n",
              "    40% {\n",
              "      border-color: transparent;\n",
              "      border-right-color: var(--fill-color);\n",
              "      border-top-color: var(--fill-color);\n",
              "    }\n",
              "    60% {\n",
              "      border-color: transparent;\n",
              "      border-right-color: var(--fill-color);\n",
              "    }\n",
              "    80% {\n",
              "      border-color: transparent;\n",
              "      border-right-color: var(--fill-color);\n",
              "      border-bottom-color: var(--fill-color);\n",
              "    }\n",
              "    90% {\n",
              "      border-color: transparent;\n",
              "      border-bottom-color: var(--fill-color);\n",
              "    }\n",
              "  }\n",
              "</style>\n",
              "\n",
              "      <script>\n",
              "        async function quickchart(key) {\n",
              "          const quickchartButtonEl =\n",
              "            document.querySelector('#' + key + ' button');\n",
              "          quickchartButtonEl.disabled = true;  // To prevent multiple clicks.\n",
              "          quickchartButtonEl.classList.add('colab-df-spinner');\n",
              "          try {\n",
              "            const charts = await google.colab.kernel.invokeFunction(\n",
              "                'suggestCharts', [key], {});\n",
              "          } catch (error) {\n",
              "            console.error('Error during call to suggestCharts:', error);\n",
              "          }\n",
              "          quickchartButtonEl.classList.remove('colab-df-spinner');\n",
              "          quickchartButtonEl.classList.add('colab-df-quickchart-complete');\n",
              "        }\n",
              "        (() => {\n",
              "          let quickchartButtonEl =\n",
              "            document.querySelector('#df-2e1eb6d8-0a5d-4787-9ab1-43b2f85e649e button');\n",
              "          quickchartButtonEl.style.display =\n",
              "            google.colab.kernel.accessAllowed ? 'block' : 'none';\n",
              "        })();\n",
              "      </script>\n",
              "    </div>\n",
              "\n",
              "  <div id=\"id_7949c503-c7a4-47ca-9dff-cf6fb41dc937\">\n",
              "    <style>\n",
              "      .colab-df-generate {\n",
              "        background-color: #E8F0FE;\n",
              "        border: none;\n",
              "        border-radius: 50%;\n",
              "        cursor: pointer;\n",
              "        display: none;\n",
              "        fill: #1967D2;\n",
              "        height: 32px;\n",
              "        padding: 0 0 0 0;\n",
              "        width: 32px;\n",
              "      }\n",
              "\n",
              "      .colab-df-generate:hover {\n",
              "        background-color: #E2EBFA;\n",
              "        box-shadow: 0px 1px 2px rgba(60, 64, 67, 0.3), 0px 1px 3px 1px rgba(60, 64, 67, 0.15);\n",
              "        fill: #174EA6;\n",
              "      }\n",
              "\n",
              "      [theme=dark] .colab-df-generate {\n",
              "        background-color: #3B4455;\n",
              "        fill: #D2E3FC;\n",
              "      }\n",
              "\n",
              "      [theme=dark] .colab-df-generate:hover {\n",
              "        background-color: #434B5C;\n",
              "        box-shadow: 0px 1px 3px 1px rgba(0, 0, 0, 0.15);\n",
              "        filter: drop-shadow(0px 1px 2px rgba(0, 0, 0, 0.3));\n",
              "        fill: #FFFFFF;\n",
              "      }\n",
              "    </style>\n",
              "    <button class=\"colab-df-generate\" onclick=\"generateWithVariable('comparison_df')\"\n",
              "            title=\"Generate code using this dataframe.\"\n",
              "            style=\"display:none;\">\n",
              "\n",
              "  <svg xmlns=\"http://www.w3.org/2000/svg\" height=\"24px\"viewBox=\"0 0 24 24\"\n",
              "       width=\"24px\">\n",
              "    <path d=\"M7,19H8.4L18.45,9,17,7.55,7,17.6ZM5,21V16.75L18.45,3.32a2,2,0,0,1,2.83,0l1.4,1.43a1.91,1.91,0,0,1,.58,1.4,1.91,1.91,0,0,1-.58,1.4L9.25,21ZM18.45,9,17,7.55Zm-12,3A5.31,5.31,0,0,0,4.9,8.1,5.31,5.31,0,0,0,1,6.5,5.31,5.31,0,0,0,4.9,4.9,5.31,5.31,0,0,0,6.5,1,5.31,5.31,0,0,0,8.1,4.9,5.31,5.31,0,0,0,12,6.5,5.46,5.46,0,0,0,6.5,12Z\"/>\n",
              "  </svg>\n",
              "    </button>\n",
              "    <script>\n",
              "      (() => {\n",
              "      const buttonEl =\n",
              "        document.querySelector('#id_7949c503-c7a4-47ca-9dff-cf6fb41dc937 button.colab-df-generate');\n",
              "      buttonEl.style.display =\n",
              "        google.colab.kernel.accessAllowed ? 'block' : 'none';\n",
              "\n",
              "      buttonEl.onclick = () => {\n",
              "        google.colab.notebook.generateWithVariable('comparison_df');\n",
              "      }\n",
              "      })();\n",
              "    </script>\n",
              "  </div>\n",
              "\n",
              "    </div>\n",
              "  </div>\n"
            ],
            "application/vnd.google.colaboratory.intrinsic+json": {
              "type": "dataframe",
              "variable_name": "comparison_df",
              "summary": "{\n  \"name\": \"comparison_df\",\n  \"rows\": 10,\n  \"fields\": [\n    {\n      \"column\": \"Question\",\n      \"properties\": {\n        \"dtype\": \"string\",\n        \"num_unique_values\": 10,\n        \"samples\": [\n          \"Should applicants with no valuable assets be approved easily?\",\n          \"Is it risky to approve loans for applicants with poor credit history?\",\n          \"How important is age in assessing loan eligibility?\"\n        ],\n        \"semantic_type\": \"\",\n        \"description\": \"\"\n      }\n    },\n    {\n      \"column\": \"FLAN-T5-Base\",\n      \"properties\": {\n        \"dtype\": \"string\",\n        \"num_unique_values\": 8,\n        \"samples\": [\n          \"no\",\n          \"Age: 26, Loan Amount: 9960 for 2 purpose, Credit History: 2, Savings:\",\n          \"Yes\"\n        ],\n        \"semantic_type\": \"\",\n        \"description\": \"\"\n      }\n    },\n    {\n      \"column\": \"LaMini-Flan-T5-248M\",\n      \"properties\": {\n        \"dtype\": \"string\",\n        \"num_unique_values\": 10,\n        \"samples\": [\n          \"No, applicants with no valuable assets should not be approved easily.\",\n          \"It is not possible to determine whether it is risky to approve loans for applicants with poor credit history\",\n          \"Age is very important in assessing loan eligibility.\"\n        ],\n        \"semantic_type\": \"\",\n        \"description\": \"\"\n      }\n    },\n    {\n      \"column\": \"Falcon-RW-1B\",\n      \"properties\": {\n        \"dtype\": \"string\",\n        \"num_unique_values\": 9,\n        \"samples\": [\n          \"No.\",\n          \"No, it is not risky to approve loans for applicants with poor credit history.\",\n          \"Age is important in assessing loan eligibility.\"\n        ],\n        \"semantic_type\": \"\",\n        \"description\": \"\"\n      }\n    }\n  ]\n}"
            }
          },
          "metadata": {},
          "execution_count": 14
        }
      ]
    },
    {
      "cell_type": "code",
      "source": [
        "# Assume you already have your chains dictionary ready\n",
        "# Example: chains = {\"FLAN-T5-Base\": chain1, \"FLAN-T5-Large\": chain2, \"Falcon-RW-1B\": chain3}\n",
        "\n",
        "while True:\n",
        "    # Ask user for a question\n",
        "    user_question = input(\"\\n Enter your question (or type 'exit' to stop): \")\n",
        "\n",
        "    if user_question.lower() == 'exit':\n",
        "        print(\" Exiting question loop. Goodbye!\")\n",
        "        break  # Exit the while loop\n",
        "\n",
        "    print(f\"\\n Question: {user_question}\\n{'='*70}\")\n",
        "\n",
        "    # Loop through each model and print answers\n",
        "    for model_name, chain in chains.items():\n",
        "        try:\n",
        "            answer = chain.run(user_question)\n",
        "\n",
        "            # Handle if model returns list (LaMini, Falcon)\n",
        "            if isinstance(answer, list):\n",
        "                answer = answer[0][\"generated_text\"]\n",
        "\n",
        "            # Special cleaning for Falcon if needed\n",
        "            if model_name == \"Falcon-RW-1B\":\n",
        "                answer = answer.split(\"Answer:\")[-1].strip().split(\"\\n\")[0]\n",
        "            else:\n",
        "                answer = answer.strip()\n",
        "\n",
        "            print(f\" {model_name}: {answer}\\n{'-'*50}\")\n",
        "\n",
        "        except Exception as e:\n",
        "            print(f\" {model_name}: Error - {e}\")\n",
        "\n",
        "    print(\"=\"*80)\n"
      ],
      "metadata": {
        "colab": {
          "base_uri": "https://localhost:8080/"
        },
        "id": "u9p9LEUD0dwA",
        "outputId": "5bb3893b-ae67-46a4-b5e4-11f4560976cc"
      },
      "execution_count": 15,
      "outputs": [
        {
          "output_type": "stream",
          "name": "stdout",
          "text": [
            "\n",
            " Enter your question (or type 'exit' to stop): How do the applicant’s savings and assets influence the credit decision?\n",
            "\n",
            " Question: How do the applicant’s savings and assets influence the credit decision?\n",
            "======================================================================\n",
            " FLAN-T5-Base: Creditability\n",
            "--------------------------------------------------\n"
          ]
        },
        {
          "output_type": "stream",
          "name": "stderr",
          "text": [
            "Setting `pad_token_id` to `eos_token_id`:2 for open-end generation.\n"
          ]
        },
        {
          "output_type": "stream",
          "name": "stdout",
          "text": [
            " LaMini-Flan-T5-248M: The applicant's savings and assets can influence the credit decision by providing them with a credit history\n",
            "--------------------------------------------------\n",
            " Falcon-RW-1B: The applicant’s savings and assets are not a factor in the credit decision.\n",
            "--------------------------------------------------\n",
            "================================================================================\n",
            "\n",
            " Enter your question (or type 'exit' to stop): Is there a mismatch between the loan purpose and the applicant's financial profile?\n",
            "\n",
            " Question: Is there a mismatch between the loan purpose and the applicant's financial profile?\n",
            "======================================================================\n",
            " FLAN-T5-Base: yes\n",
            "--------------------------------------------------\n"
          ]
        },
        {
          "output_type": "stream",
          "name": "stderr",
          "text": [
            "Setting `pad_token_id` to `eos_token_id`:2 for open-end generation.\n"
          ]
        },
        {
          "output_type": "stream",
          "name": "stdout",
          "text": [
            " LaMini-Flan-T5-248M: There is no information provided in the context to suggest a mismatch between the loan purpose and the\n",
            "--------------------------------------------------\n",
            " Falcon-RW-1B: Yes, the applicant is high risk.\n",
            "--------------------------------------------------\n",
            "================================================================================\n",
            "\n",
            " Enter your question (or type 'exit' to stop): exit\n",
            " Exiting question loop. Goodbye!\n"
          ]
        }
      ]
    },
    {
      "cell_type": "markdown",
      "source": [],
      "metadata": {
        "id": "1hrKFf1BszPh"
      }
    }
  ],
  "metadata": {
    "colab": {
      "provenance": [],
      "gpuType": "T4"
    },
    "kernelspec": {
      "display_name": "Python 3",
      "name": "python3"
    },
    "language_info": {
      "name": "python"
    },
    "accelerator": "GPU"
  },
  "nbformat": 4,
  "nbformat_minor": 0
}